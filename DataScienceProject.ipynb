{
  "nbformat": 4,
  "nbformat_minor": 0,
  "metadata": {
    "colab": {
      "name": "DataScienceProject.ipynb",
      "provenance": [],
      "collapsed_sections": [],
      "authorship_tag": "ABX9TyNh/Ju4CcAJoTgqz73MNilA",
      "include_colab_link": true
    },
    "kernelspec": {
      "name": "python3",
      "display_name": "Python 3"
    },
    "language_info": {
      "name": "python"
    }
  },
  "cells": [
    {
      "cell_type": "markdown",
      "metadata": {
        "id": "view-in-github",
        "colab_type": "text"
      },
      "source": [
        "<a href=\"https://colab.research.google.com/github/kokolight/MetacriticProject/blob/main/DataScienceProject.ipynb\" target=\"_parent\"><img src=\"https://colab.research.google.com/assets/colab-badge.svg\" alt=\"Open In Colab\"/></a>"
      ]
    },
    {
      "cell_type": "markdown",
      "metadata": {
        "id": "Hp07Xb2GIv9o"
      },
      "source": [
        "# DataScience Project\n"
      ]
    },
    {
      "cell_type": "markdown",
      "metadata": {
        "id": "I9U4mVZTI1dh"
      },
      "source": [
        "## Creating the data set - Crawling \n"
      ]
    },
    {
      "cell_type": "markdown",
      "metadata": {
        "id": "yvRleU2PTcg_"
      },
      "source": [
        "### Main problem -\n",
        "* Gaming companies develop games for years and cannot predict if their game will be sucessfull or not.\n",
        "\n",
        "### Data -\n",
        "Metacritic -\n",
        "\n",
        "Description: Games ranking and reviews\n",
        "\n",
        "Website: https://www.metacritic.com/"
      ]
    },
    {
      "cell_type": "markdown",
      "metadata": {
        "id": "zTltAWh3VPac"
      },
      "source": [
        "### Web scraping"
      ]
    },
    {
      "cell_type": "markdown",
      "metadata": {
        "id": "e-46FOUJw3gy"
      },
      "source": [
        "### Data we scrape:\n",
        "- Name - V\n",
        "- Release Date - V\n",
        "- Platforms - \n",
        "- Metascore - V\n",
        "- Userscore\n",
        "- Critic reviews\n",
        "- Number of players\n",
        "- Developer\n",
        "- Publisher\n",
        "- Maturaty Rating\n",
        "- Genres\n",
        "- Number of users ratings\n",
        "- Number of critics ratings\n",
        "- Number of awards\n",
        "- Resolution\n",
        "\n",
        "Possible:\n",
        "\n",
        "- Number of positive/mixed/negative ratings\n",
        "- Sound\n",
        "- Online Playable (yes/no) "
      ]
    },
    {
      "cell_type": "code",
      "metadata": {
        "colab": {
          "base_uri": "https://localhost:8080/"
        },
        "id": "xyPNY1ITEC01",
        "outputId": "0adf4e43-bb3a-41c6-9f66-f0cf87039761"
      },
      "source": [
        "headers = {'User-Agent':'Mozilla/5.0 (Windows NT 10.0; Win64; x64) AppleWebKit/537.36 (KHTML, like Gecko) Chrome/90.0.4430.93 Safari/537.36'}\n",
        "game_req = requests.get(\"https://www.metacritic.com/game/xbox-one/avicii-invector\",headers=headers)\n",
        "soup = BeautifulSoup(game_req.text)\n",
        "soup.select('div.feature_userscore')[0].select('.metascore_w.user.large.game')\n",
        "#soup.find(\"li\", class_=\"summary_detail product_platforms\").find_all(\"a\")\n",
        "\n",
        "#soup.find(\"div\", class_=\"metascore_w user\")"
      ],
      "execution_count": 104,
      "outputs": [
        {
          "output_type": "execute_result",
          "data": {
            "text/plain": [
              "[<div class=\"metascore_w user large game positive\">7.7</div>]"
            ]
          },
          "metadata": {
            "tags": []
          },
          "execution_count": 104
        }
      ]
    },
    {
      "cell_type": "code",
      "metadata": {
        "id": "_-5ImQbjIuPX"
      },
      "source": [
        "import requests\n",
        "import bs4\n",
        "from bs4 import BeautifulSoup\n",
        "import pandas as pd\n",
        "import threading"
      ],
      "execution_count": 1,
      "outputs": []
    },
    {
      "cell_type": "code",
      "metadata": {
        "colab": {
          "base_uri": "https://localhost:8080/",
          "height": 1000
        },
        "id": "hFCKgP9RVW3B",
        "outputId": "090ab04f-74b6-4599-e72b-6fffd4c144d5"
      },
      "source": [
        "base_url = \"https://www.metacritic.com\"\n",
        "browse_url = base_url + '/browse/games/score/metascore/all/all/filtered?'\n",
        "\n",
        "month_dict = {'January':'1', 'February':'2', 'March':'3', 'April':'4', 'May': '5', 'June':'6', 'July':'7',\n",
        "                    'August':'8', 'September':'9', 'October':'10', 'November':'11', 'December':'12'}\n",
        "\n",
        "soup = BeautifulSoup('html.parser')\n",
        "\n",
        "def metacritic_games_data(start_page, end_page):\n",
        "  headers = {'User-Agent':'Mozilla/5.0 (Windows NT 10.0; Win64; x64) AppleWebKit/537.36 (KHTML, like Gecko) Chrome/90.0.4430.93 Safari/537.36'}\n",
        "\n",
        "  names = []\n",
        "  metascores = []\n",
        "  userscores = []\n",
        "  num_of_platforms = []\n",
        "  release_dates = []\n",
        "  platforms = []\n",
        "  hrefs = []\n",
        "\n",
        "  for i in range(start_page, end_page):\n",
        "    print(f\"i = {i}\")\n",
        "    page_url = browse_url+'page={0}'.format(i)\n",
        "    req = requests.get(page_url, headers=headers)\n",
        "    soup.append(bs4.BeautifulSoup(req.text))\n",
        "\n",
        "  games_records = soup.find_all(\"td\", class_=\"clamp-summary-wrap\")\n",
        "\n",
        "  for game in games_records:\n",
        "    title_obj = game.find('a', class_=\"title\")\n",
        "    title =title_obj.text\n",
        "    href = title_obj.get(\"href\")\n",
        "    meta_score = game.find('div', class_=\"metascore_w\").text\n",
        "    platform = game.find(\"span\", class_=\"data\").text.strip()\n",
        "    names.append(title)\n",
        "    hrefs.append(href)\n",
        "    metascores.append(meta_score)\n",
        "    platforms.append(platform)\n",
        "    date=game.find(\"div\", class_=\"clamp-details\").find_all(\"span\")[2].text.replace(\",\", \"\")\n",
        "    date_splitted = date.split(\" \")\n",
        "    release_date=\"{day}-{month}-{year}\".format(day = date_splitted[1], month = month_dict[date_splitted[0]] , year = date_splitted[2])\n",
        "    release_dates.append(release_date)\n",
        "    \n",
        "    # in game section\n",
        "    game_url = base_url+''+href\n",
        "    game_req = requests.get(game_url, headers=headers)\n",
        "    print(f\"URL: {game_url}\")\n",
        "    game_soup = BeautifulSoup(game_req.text, 'html.parser')\n",
        "    user_score = game_soup.select('div.feature_userscore')[0].select('.metascore_w.user.large.game')[0].text\n",
        "    #platforms_count = len(game_soup.find(\"li\", class_=\"summary_detail product_platforms\").find_all(\"a\"))\n",
        "    userscores.append(user_score)\n",
        "    #num_of_platforms.append(platforms_count)\n",
        "\n",
        "  df = pd.DataFrame({'name': names, 'metascore': metascores, 'userscore': userscores, 'release_date': release_dates, \n",
        "                     'platform': platforms})\n",
        "  df.to_csv(\"./video_games_ratings.csv\",  mode='a')\n",
        "  return df\n",
        "\n",
        "df = metacritic_games_data(1,2)\n",
        "df\n"
      ],
      "execution_count": 116,
      "outputs": [
        {
          "output_type": "stream",
          "text": [
            "i = 1\n",
            "URL: https://www.metacritic.com/game/xbox/burnout-3-takedown\n",
            "URL: https://www.metacritic.com/game/pc/diablo\n",
            "URL: https://www.metacritic.com/game/playstation-2/metal-gear-solid-3-subsistence\n",
            "URL: https://www.metacritic.com/game/xbox-360/call-of-duty-modern-warfare-2\n",
            "URL: https://www.metacritic.com/game/playstation-3/metal-gear-solid-4-guns-of-the-patriots\n",
            "URL: https://www.metacritic.com/game/playstation-2/ncaa-football-2004\n",
            "URL: https://www.metacritic.com/game/playstation-2/god-of-war\n",
            "URL: https://www.metacritic.com/game/xbox/star-wars-knights-of-the-old-republic\n",
            "URL: https://www.metacritic.com/game/pc/sid-meiers-civilization-iv\n",
            "URL: https://www.metacritic.com/game/gamecube/madden-nfl-2004\n",
            "URL: https://www.metacritic.com/game/playstation-2/virtua-fighter-4\n",
            "URL: https://www.metacritic.com/game/nintendo-64/super-mario-64\n",
            "URL: https://www.metacritic.com/game/pc/the-witcher-3-wild-hunt\n",
            "URL: https://www.metacritic.com/game/playstation-2/burnout-3-takedown\n",
            "URL: https://www.metacritic.com/game/wii/super-smash-bros-brawl\n",
            "URL: https://www.metacritic.com/game/pc/company-of-heroes\n",
            "URL: https://www.metacritic.com/game/playstation/gran-turismo-2\n",
            "URL: https://www.metacritic.com/game/playstation-4/the-last-of-us-part-ii\n",
            "URL: https://www.metacritic.com/game/xbox/tom-clancys-splinter-cell-pandora-tomorrow\n",
            "URL: https://www.metacritic.com/game/ds/grand-theft-auto-chinatown-wars\n",
            "URL: https://www.metacritic.com/game/switch/divinity-original-sin-ii---definitive-edition\n",
            "URL: https://www.metacritic.com/game/xbox-360/pac-man-championship-edition-dx\n",
            "URL: https://www.metacritic.com/game/playstation/street-fighter-alpha-3\n",
            "URL: https://www.metacritic.com/game/switch/hades\n",
            "URL: https://www.metacritic.com/game/xbox/tony-hawks-pro-skater-3\n",
            "URL: https://www.metacritic.com/game/pc/half-life-alyx\n",
            "URL: https://www.metacritic.com/game/pc/divinity-original-sin-ii\n",
            "URL: https://www.metacritic.com/game/pc/unreal-tournament-2004\n",
            "URL: https://www.metacritic.com/game/xbox-360/bioshock-infinite\n",
            "URL: https://www.metacritic.com/game/switch/ori-and-the-will-of-the-wisps\n",
            "URL: https://www.metacritic.com/game/xbox-360/braid\n",
            "URL: https://www.metacritic.com/game/playstation-2/god-of-war-ii\n",
            "URL: https://www.metacritic.com/game/wii-u/super-mario-3d-world\n",
            "URL: https://www.metacritic.com/game/pc/starcraft-ii-wings-of-liberty\n",
            "URL: https://www.metacritic.com/game/playstation-2/ssx\n",
            "URL: https://www.metacritic.com/game/xbox-360/street-fighter-iv\n",
            "URL: https://www.metacritic.com/game/pc/minecraft\n",
            "URL: https://www.metacritic.com/game/switch/undertale\n",
            "URL: https://www.metacritic.com/game/playstation-vita/persona-4-golden\n",
            "URL: https://www.metacritic.com/game/playstation-4/persona-5\n",
            "URL: https://www.metacritic.com/game/pc/red-dead-redemption-2\n",
            "URL: https://www.metacritic.com/game/playstation-2/ssx-3\n",
            "URL: https://www.metacritic.com/game/xbox/tom-clancys-splinter-cell\n",
            "URL: https://www.metacritic.com/game/pc/grand-theft-auto-iii\n",
            "URL: https://www.metacritic.com/game/dreamcast/quake-iii-arena\n",
            "URL: https://www.metacritic.com/game/pc/homeworld\n",
            "URL: https://www.metacritic.com/game/playstation-2/okami\n",
            "URL: https://www.metacritic.com/game/playstation-3/the-elder-scrolls-iv-oblivion\n",
            "URL: https://www.metacritic.com/game/xbox-360/fallout-3\n",
            "URL: https://www.metacritic.com/game/xbox-360/gears-of-war-2\n",
            "URL: https://www.metacritic.com/game/gamecube/soulcalibur-ii\n",
            "URL: https://www.metacritic.com/game/playstation-2/world-soccer-winning-eleven-6-international\n",
            "URL: https://www.metacritic.com/game/playstation-2/nfl-2k3\n",
            "URL: https://www.metacritic.com/game/xbox-360/mass-effect-3\n",
            "URL: https://www.metacritic.com/game/playstation-4/metal-gear-solid-v-the-phantom-pain\n",
            "URL: https://www.metacritic.com/game/dreamcast/skies-of-arcadia\n",
            "URL: https://www.metacritic.com/game/wii/the-legend-of-zelda-skyward-sword\n",
            "URL: https://www.metacritic.com/game/game-boy-advance/mario-kart-super-circuit\n",
            "URL: https://www.metacritic.com/game/pc/beat-saber\n",
            "URL: https://www.metacritic.com/game/pc/hades\n",
            "URL: https://www.metacritic.com/game/xbox-360/rock-band-3\n",
            "URL: https://www.metacritic.com/game/gamecube/viewtiful-joe\n",
            "URL: https://www.metacritic.com/game/dreamcast/test-drive-le-mans\n",
            "URL: https://www.metacritic.com/game/dreamcast/nba-2k1\n",
            "URL: https://www.metacritic.com/game/playstation/castlevania-symphony-of-the-night\n",
            "URL: https://www.metacritic.com/game/pc/star-wars-knights-of-the-old-republic\n",
            "URL: https://www.metacritic.com/game/playstation-2/virtua-fighter-4-evolution\n",
            "URL: https://www.metacritic.com/game/playstation-4/uncharted-4-a-thiefs-end\n",
            "URL: https://www.metacritic.com/game/switch/super-smash-bros-ultimate\n",
            "URL: https://www.metacritic.com/game/playstation-3/braid\n",
            "URL: https://www.metacritic.com/game/playstation-3/mass-effect-3\n",
            "URL: https://www.metacritic.com/game/nintendo-64/paper-mario\n",
            "URL: https://www.metacritic.com/game/playstation/wipeout-xl\n",
            "URL: https://www.metacritic.com/game/xbox/grand-theft-auto-san-andreas\n",
            "URL: https://www.metacritic.com/game/xbox-one/resident-evil-2\n",
            "URL: https://www.metacritic.com/game/xbox-one/inside\n",
            "URL: https://www.metacritic.com/game/pc/world-of-warcraft\n",
            "URL: https://www.metacritic.com/game/pc/grand-theft-auto-san-andreas\n",
            "URL: https://www.metacritic.com/game/ds/flipnote-studio\n",
            "URL: https://www.metacritic.com/game/playstation-2/world-soccer-winning-eleven-7-international\n",
            "URL: https://www.metacritic.com/game/dreamcast/nba-2k2\n",
            "URL: https://www.metacritic.com/game/playstation-2/soulcalibur-ii\n",
            "URL: https://www.metacritic.com/game/playstation-3/the-elder-scrolls-v-skyrim\n",
            "URL: https://www.metacritic.com/game/xbox/prince-of-persia-the-sands-of-time\n",
            "URL: https://www.metacritic.com/game/pc/call-of-duty-4-modern-warfare\n",
            "URL: https://www.metacritic.com/game/xbox-one/forza-horizon-4\n",
            "URL: https://www.metacritic.com/game/playstation-3/god-of-war-iii\n",
            "URL: https://www.metacritic.com/game/xbox-one/divinity-original-sin-ii---definitive-edition\n",
            "URL: https://www.metacritic.com/game/gamecube/nfl-2k3\n",
            "URL: https://www.metacritic.com/game/playstation-2/ssx-tricky\n",
            "URL: https://www.metacritic.com/game/playstation-2/nhl-2002\n",
            "URL: https://www.metacritic.com/game/xbox-360/guitar-hero-ii\n",
            "URL: https://www.metacritic.com/game/playstation-2/prince-of-persia-the-sands-of-time\n",
            "URL: https://www.metacritic.com/game/playstation-3/uncharted-3-drakes-deception\n",
            "URL: https://www.metacritic.com/game/xbox-360/rock-band\n",
            "URL: https://www.metacritic.com/game/playstation-4/journey\n",
            "URL: https://www.metacritic.com/game/playstation-4/bloodborne\n",
            "URL: https://www.metacritic.com/game/gamecube/eternal-darkness-sanitys-requiem\n",
            "URL: https://www.metacritic.com/game/pc/warcraft-iii-reign-of-chaos\n",
            "URL: https://www.metacritic.com/game/gamecube/ssx-3\n"
          ],
          "name": "stdout"
        },
        {
          "output_type": "execute_result",
          "data": {
            "text/html": [
              "<div>\n",
              "<style scoped>\n",
              "    .dataframe tbody tr th:only-of-type {\n",
              "        vertical-align: middle;\n",
              "    }\n",
              "\n",
              "    .dataframe tbody tr th {\n",
              "        vertical-align: top;\n",
              "    }\n",
              "\n",
              "    .dataframe thead th {\n",
              "        text-align: right;\n",
              "    }\n",
              "</style>\n",
              "<table border=\"1\" class=\"dataframe\">\n",
              "  <thead>\n",
              "    <tr style=\"text-align: right;\">\n",
              "      <th></th>\n",
              "      <th>name</th>\n",
              "      <th>metascore</th>\n",
              "      <th>userscore</th>\n",
              "      <th>release_date</th>\n",
              "      <th>platform</th>\n",
              "    </tr>\n",
              "  </thead>\n",
              "  <tbody>\n",
              "    <tr>\n",
              "      <th>0</th>\n",
              "      <td>Burnout 3: Takedown</td>\n",
              "      <td>94</td>\n",
              "      <td>7.7</td>\n",
              "      <td>7-9-2004</td>\n",
              "      <td>Xbox</td>\n",
              "    </tr>\n",
              "    <tr>\n",
              "      <th>1</th>\n",
              "      <td>Diablo</td>\n",
              "      <td>94</td>\n",
              "      <td>8.7</td>\n",
              "      <td>31-12-1996</td>\n",
              "      <td>PC</td>\n",
              "    </tr>\n",
              "    <tr>\n",
              "      <th>2</th>\n",
              "      <td>Metal Gear Solid 3: Subsistence</td>\n",
              "      <td>94</td>\n",
              "      <td>9.1</td>\n",
              "      <td>14-3-2006</td>\n",
              "      <td>PlayStation 2</td>\n",
              "    </tr>\n",
              "    <tr>\n",
              "      <th>3</th>\n",
              "      <td>Call of Duty: Modern Warfare 2</td>\n",
              "      <td>94</td>\n",
              "      <td>6.5</td>\n",
              "      <td>10-11-2009</td>\n",
              "      <td>Xbox 360</td>\n",
              "    </tr>\n",
              "    <tr>\n",
              "      <th>4</th>\n",
              "      <td>Metal Gear Solid 4: Guns of the Patriots</td>\n",
              "      <td>94</td>\n",
              "      <td>8.8</td>\n",
              "      <td>12-6-2008</td>\n",
              "      <td>PlayStation 3</td>\n",
              "    </tr>\n",
              "    <tr>\n",
              "      <th>...</th>\n",
              "      <td>...</td>\n",
              "      <td>...</td>\n",
              "      <td>...</td>\n",
              "      <td>...</td>\n",
              "      <td>...</td>\n",
              "    </tr>\n",
              "    <tr>\n",
              "      <th>95</th>\n",
              "      <td>Journey</td>\n",
              "      <td>92</td>\n",
              "      <td>8.3</td>\n",
              "      <td>21-7-2015</td>\n",
              "      <td>PlayStation 4</td>\n",
              "    </tr>\n",
              "    <tr>\n",
              "      <th>96</th>\n",
              "      <td>Bloodborne</td>\n",
              "      <td>92</td>\n",
              "      <td>8.8</td>\n",
              "      <td>24-3-2015</td>\n",
              "      <td>PlayStation 4</td>\n",
              "    </tr>\n",
              "    <tr>\n",
              "      <th>97</th>\n",
              "      <td>Eternal Darkness: Sanity's Requiem</td>\n",
              "      <td>92</td>\n",
              "      <td>8.7</td>\n",
              "      <td>23-6-2002</td>\n",
              "      <td>GameCube</td>\n",
              "    </tr>\n",
              "    <tr>\n",
              "      <th>98</th>\n",
              "      <td>Warcraft III: Reign of Chaos</td>\n",
              "      <td>92</td>\n",
              "      <td>9.2</td>\n",
              "      <td>3-7-2002</td>\n",
              "      <td>PC</td>\n",
              "    </tr>\n",
              "    <tr>\n",
              "      <th>99</th>\n",
              "      <td>SSX 3</td>\n",
              "      <td>92</td>\n",
              "      <td>8.7</td>\n",
              "      <td>20-10-2003</td>\n",
              "      <td>GameCube</td>\n",
              "    </tr>\n",
              "  </tbody>\n",
              "</table>\n",
              "<p>100 rows × 5 columns</p>\n",
              "</div>"
            ],
            "text/plain": [
              "                                        name  ...       platform\n",
              "0                        Burnout 3: Takedown  ...           Xbox\n",
              "1                                     Diablo  ...             PC\n",
              "2            Metal Gear Solid 3: Subsistence  ...  PlayStation 2\n",
              "3             Call of Duty: Modern Warfare 2  ...       Xbox 360\n",
              "4   Metal Gear Solid 4: Guns of the Patriots  ...  PlayStation 3\n",
              "..                                       ...  ...            ...\n",
              "95                                   Journey  ...  PlayStation 4\n",
              "96                                Bloodborne  ...  PlayStation 4\n",
              "97        Eternal Darkness: Sanity's Requiem  ...       GameCube\n",
              "98              Warcraft III: Reign of Chaos  ...             PC\n",
              "99                                     SSX 3  ...       GameCube\n",
              "\n",
              "[100 rows x 5 columns]"
            ]
          },
          "metadata": {
            "tags": []
          },
          "execution_count": 116
        }
      ]
    },
    {
      "cell_type": "code",
      "metadata": {
        "id": "qszR_XVzGatc"
      },
      "source": [
        "f.describe()"
      ],
      "execution_count": null,
      "outputs": []
    },
    {
      "cell_type": "code",
      "metadata": {
        "id": "uHKbEMXbcTbQ"
      },
      "source": [
        ""
      ],
      "execution_count": null,
      "outputs": []
    }
  ]
}