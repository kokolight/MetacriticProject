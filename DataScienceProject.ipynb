{
  "nbformat": 4,
  "nbformat_minor": 0,
  "metadata": {
    "colab": {
      "name": "DataScienceProject.ipynb",
      "provenance": [],
      "authorship_tag": "ABX9TyM3jVZeJFjpEURvHMd7rYRE",
      "include_colab_link": true
    },
    "kernelspec": {
      "name": "python3",
      "display_name": "Python 3"
    },
    "language_info": {
      "name": "python"
    }
  },
  "cells": [
    {
      "cell_type": "markdown",
      "metadata": {
        "id": "view-in-github",
        "colab_type": "text"
      },
      "source": [
        "<a href=\"https://colab.research.google.com/github/kokolight/MetacriticProject/blob/main/DataScienceProject.ipynb\" target=\"_parent\"><img src=\"https://colab.research.google.com/assets/colab-badge.svg\" alt=\"Open In Colab\"/></a>"
      ]
    },
    {
      "cell_type": "markdown",
      "metadata": {
        "id": "Hp07Xb2GIv9o"
      },
      "source": [
        "# DataScience Project\n"
      ]
    },
    {
      "cell_type": "markdown",
      "metadata": {
        "id": "I9U4mVZTI1dh"
      },
      "source": [
        "## Creating the data set - Crawling \n"
      ]
    },
    {
      "cell_type": "markdown",
      "metadata": {
        "id": "yvRleU2PTcg_"
      },
      "source": [
        "### Main problem -\n",
        "* Gaming companies develop games for years and cannot predict if their game will be sucessfull or not.\n",
        "\n",
        "### Data -\n",
        "Metacritic -\n",
        "\n",
        "Description: Games ranking and reviews\n",
        "\n",
        "Website: https://www.metacritic.com/"
      ]
    },
    {
      "cell_type": "markdown",
      "metadata": {
        "id": "zTltAWh3VPac"
      },
      "source": [
        "### Web scraping"
      ]
    },
    {
      "cell_type": "code",
      "metadata": {
        "id": "_-5ImQbjIuPX"
      },
      "source": [
        "import requests\n",
        "import bs4\n",
        "from bs4 import BeautifulSoup\n",
        "import pandas as pd"
      ],
      "execution_count": 147,
      "outputs": []
    },
    {
      "cell_type": "code",
      "metadata": {
        "colab": {
          "base_uri": "https://localhost:8080/",
          "height": 402
        },
        "id": "hFCKgP9RVW3B",
        "outputId": "6b5ad079-b400-4641-ed54-c62b7b2b0084"
      },
      "source": [
        "base_url = \"https://www.metacritic.com/\"\n",
        "browse_url = base_url + 'browse/games/score/metascore/all/all/filtered'\n",
        "headers = {'User-Agent':'Mozilla/5.0 (Windows NT 10.0; Win64; x64) AppleWebKit/537.36 (KHTML, like Gecko) Chrome/90.0.4430.93 Safari/537.36'}\n",
        "\n",
        "month_dict = {'January':'1', 'February':'2', 'March':'3', 'April':'4', 'May': '5', 'June':'6', 'July':'7',\n",
        "                    'August':'8', 'September':'9', 'October':'10', 'November':'11', 'December':'12'}\n",
        "\n",
        "soup = BeautifulSoup('html.parser')\n",
        "\n",
        "names = []\n",
        "metascores = []\n",
        "release_dates = []\n",
        "platforms = []\n",
        "hrefs = []\n",
        "\n",
        "def metacritic_games_data(num_of_pages):\n",
        "  for i in range(num_of_pages):\n",
        "    page_url = browse_url+'page={0}'.format(i)\n",
        "    req = requests.get(page_url, headers=headers)\n",
        "    soup.append(bs4.BeautifulSoup(req.text))\n",
        "\n",
        "  games_records = soup.find_all(\"td\", class_=\"clamp-summary-wrap\")\n",
        "\n",
        "  for game in games_records:\n",
        "    title_obj = game.find('a', class_=\"title\")\n",
        "    title =title_obj.text\n",
        "    href = title_obj.get(\"href\")\n",
        "    meta_score = game.find('div', class_=\"metascore_w\").text\n",
        "    platform = game.find(\"span\", class_=\"data\").text.strip()\n",
        "    names.append(title)\n",
        "    hrefs.append(href)\n",
        "    metascores.append(meta_score)\n",
        "    platforms.append(platform)\n",
        "    date=game.find(\"div\", class_=\"clamp-details\").find_all(\"span\")[2].text.replace(\",\", \"\")\n",
        "    date_splitted = date.split(\" \")\n",
        "    release_date=\"{day}-{month}-{year}\".format(day = date_splitted[1], month = month_dict[date_splitted[0]] , year = date_splitted[2])\n",
        "    release_dates.append(release_date)\n",
        "    \n",
        "    # in game section\n",
        "    game_url = base_url+''+href\n",
        "    game_req = requests.get(game_url)\n",
        "    game_soup = BeautifulSoup(game_req.text, 'html.parser')\n",
        "\n",
        "  df = pd.DataFrame({'name': names, 'metascore': metascores, 'release_date': release_dates, 'platform': platforms, 'url': hrefs})\n",
        "  return df\n",
        "\n",
        "df = metacritic_games_data(1)\n",
        "df"
      ],
      "execution_count": 159,
      "outputs": [
        {
          "output_type": "execute_result",
          "data": {
            "text/html": [
              "<div>\n",
              "<style scoped>\n",
              "    .dataframe tbody tr th:only-of-type {\n",
              "        vertical-align: middle;\n",
              "    }\n",
              "\n",
              "    .dataframe tbody tr th {\n",
              "        vertical-align: top;\n",
              "    }\n",
              "\n",
              "    .dataframe thead th {\n",
              "        text-align: right;\n",
              "    }\n",
              "</style>\n",
              "<table border=\"1\" class=\"dataframe\">\n",
              "  <thead>\n",
              "    <tr style=\"text-align: right;\">\n",
              "      <th></th>\n",
              "      <th>name</th>\n",
              "      <th>metascore</th>\n",
              "      <th>release_date</th>\n",
              "      <th>platform</th>\n",
              "      <th>url</th>\n",
              "    </tr>\n",
              "  </thead>\n",
              "  <tbody>\n",
              "    <tr>\n",
              "      <th>0</th>\n",
              "      <td>The Legend of Zelda: Ocarina of Time</td>\n",
              "      <td>99</td>\n",
              "      <td>23-11-1998</td>\n",
              "      <td>Nintendo 64</td>\n",
              "      <td>/game/nintendo-64/the-legend-of-zelda-ocarina-...</td>\n",
              "    </tr>\n",
              "    <tr>\n",
              "      <th>1</th>\n",
              "      <td>Tony Hawk's Pro Skater 2</td>\n",
              "      <td>98</td>\n",
              "      <td>20-9-2000</td>\n",
              "      <td>PlayStation</td>\n",
              "      <td>/game/playstation/tony-hawks-pro-skater-2</td>\n",
              "    </tr>\n",
              "    <tr>\n",
              "      <th>2</th>\n",
              "      <td>Grand Theft Auto IV</td>\n",
              "      <td>98</td>\n",
              "      <td>29-4-2008</td>\n",
              "      <td>PlayStation 3</td>\n",
              "      <td>/game/playstation-3/grand-theft-auto-iv</td>\n",
              "    </tr>\n",
              "    <tr>\n",
              "      <th>3</th>\n",
              "      <td>SoulCalibur</td>\n",
              "      <td>98</td>\n",
              "      <td>8-9-1999</td>\n",
              "      <td>Dreamcast</td>\n",
              "      <td>/game/dreamcast/soulcalibur</td>\n",
              "    </tr>\n",
              "    <tr>\n",
              "      <th>4</th>\n",
              "      <td>Grand Theft Auto IV</td>\n",
              "      <td>98</td>\n",
              "      <td>29-4-2008</td>\n",
              "      <td>Xbox 360</td>\n",
              "      <td>/game/xbox-360/grand-theft-auto-iv</td>\n",
              "    </tr>\n",
              "    <tr>\n",
              "      <th>...</th>\n",
              "      <td>...</td>\n",
              "      <td>...</td>\n",
              "      <td>...</td>\n",
              "      <td>...</td>\n",
              "      <td>...</td>\n",
              "    </tr>\n",
              "    <tr>\n",
              "      <th>95</th>\n",
              "      <td>Jet Grind Radio</td>\n",
              "      <td>94</td>\n",
              "      <td>30-10-2000</td>\n",
              "      <td>Dreamcast</td>\n",
              "      <td>/game/dreamcast/jet-grind-radio</td>\n",
              "    </tr>\n",
              "    <tr>\n",
              "      <th>96</th>\n",
              "      <td>Metal Gear Solid</td>\n",
              "      <td>94</td>\n",
              "      <td>21-10-1998</td>\n",
              "      <td>PlayStation</td>\n",
              "      <td>/game/playstation/metal-gear-solid</td>\n",
              "    </tr>\n",
              "    <tr>\n",
              "      <th>97</th>\n",
              "      <td>Grim Fandango</td>\n",
              "      <td>94</td>\n",
              "      <td>14-10-1998</td>\n",
              "      <td>PC</td>\n",
              "      <td>/game/pc/grim-fandango</td>\n",
              "    </tr>\n",
              "    <tr>\n",
              "      <th>98</th>\n",
              "      <td>Tom Clancy's Splinter Cell Chaos Theory</td>\n",
              "      <td>94</td>\n",
              "      <td>28-3-2005</td>\n",
              "      <td>Xbox</td>\n",
              "      <td>/game/xbox/tom-clancys-splinter-cell-chaos-theory</td>\n",
              "    </tr>\n",
              "    <tr>\n",
              "      <th>99</th>\n",
              "      <td>Burnout 3: Takedown</td>\n",
              "      <td>94</td>\n",
              "      <td>7-9-2004</td>\n",
              "      <td>Xbox</td>\n",
              "      <td>/game/xbox/burnout-3-takedown</td>\n",
              "    </tr>\n",
              "  </tbody>\n",
              "</table>\n",
              "<p>100 rows × 5 columns</p>\n",
              "</div>"
            ],
            "text/plain": [
              "                                       name  ...                                                url\n",
              "0      The Legend of Zelda: Ocarina of Time  ...  /game/nintendo-64/the-legend-of-zelda-ocarina-...\n",
              "1                  Tony Hawk's Pro Skater 2  ...          /game/playstation/tony-hawks-pro-skater-2\n",
              "2                       Grand Theft Auto IV  ...            /game/playstation-3/grand-theft-auto-iv\n",
              "3                               SoulCalibur  ...                        /game/dreamcast/soulcalibur\n",
              "4                       Grand Theft Auto IV  ...                 /game/xbox-360/grand-theft-auto-iv\n",
              "..                                      ...  ...                                                ...\n",
              "95                          Jet Grind Radio  ...                    /game/dreamcast/jet-grind-radio\n",
              "96                         Metal Gear Solid  ...                 /game/playstation/metal-gear-solid\n",
              "97                            Grim Fandango  ...                             /game/pc/grim-fandango\n",
              "98  Tom Clancy's Splinter Cell Chaos Theory  ...  /game/xbox/tom-clancys-splinter-cell-chaos-theory\n",
              "99                      Burnout 3: Takedown  ...                      /game/xbox/burnout-3-takedown\n",
              "\n",
              "[100 rows x 5 columns]"
            ]
          },
          "metadata": {
            "tags": []
          },
          "execution_count": 159
        }
      ]
    },
    {
      "cell_type": "code",
      "metadata": {
        "id": "uHKbEMXbcTbQ"
      },
      "source": [
        ""
      ],
      "execution_count": null,
      "outputs": []
    }
  ]
}